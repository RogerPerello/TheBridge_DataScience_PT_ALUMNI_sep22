{
 "cells": [
  {
   "cell_type": "markdown",
   "metadata": {},
   "source": [
    "# Bus\n",
    "\n",
    "Este bus tiene un sistema de control de subida y bajada de pasajeros para monitorizar el número de ocupantes que lleva y así detectar cuando hay un aforo demasiado alto. \n",
    "\n",
    "En cada parada la subida y bajada de pasajeros se representa por una tupla compuesta por dos números enteros. \n",
    "```\n",
    "bus_stop = (in, out)\n",
    "```\n",
    "La sucesión de paradas se representa con una lista estas tuplas.\n",
    "```\n",
    "stops = [(in1, out1), (in2, out2), (in3, out3), (in4, out4)]\n",
    "```\n",
    "\n",
    "## Objetivos: \n",
    "* listas, tuplas\n",
    "* bucles while/for\n",
    "* mínimo, máximo, longitud\n",
    "* media, desviación estandard\n",
    "\n",
    "## Tareas\n",
    "1. Calcula el número de paradas. \n",
    "2. Asigna a una variable una lista cuyos elementos sean el número de pasajeros en cada parada (in-out), \n",
    "3. Halla el máximo de ocupación del autobús. \n",
    "4. Calcula la media de la ocupación. Y la desviación estandard. \n"
   ]
  },
  {
   "cell_type": "code",
   "execution_count": null,
   "metadata": {},
   "outputs": [],
   "source": [
    "stops = [(10, 0), (4, 1), (3, 5), (3, 4), (5, 1), (1, 5), (5, 8), (4, 6), (2, 3)]\n",
    "\n",
    "# 1. Calcula el número de paradas. \n",
    "\n",
    "\n",
    "# 2. Asigna a una variable una lista cuyos elementos sean el número de pasajeros en \n",
    "# cada parada: Cada elemento depende del elemento previo en la lista + in - out.  \n",
    "\n",
    "\n",
    "# 3. Halla el máximo de ocupación del autobús. \n",
    "\n",
    "\n",
    "# 4. Calcula la media de la ocupación. Y la desviación estandard. \n",
    "\n"
   ]
  },
  {
   "cell_type": "code",
   "execution_count": 12,
   "metadata": {},
   "outputs": [
    {
     "name": "stdout",
     "output_type": "stream",
     "text": [
      "El autobús hace 9 paradas.\n",
      "Estos son los pasajeros de cada una: [10, 13, 11, 10, 14, 10, 7, 5, 4]\n",
      "Por tanto, el máximo de ocupación es 14.\n",
      "La media de ocupación es de 9.33.\n",
      "La desviación estándar es de 3.2.\n",
      "\n"
     ]
    }
   ],
   "source": [
    "stops = [(10, 0), (4, 1), (3, 5), (3, 4), (5, 1), (1, 5), (5, 8), (4, 6), (2, 3)]\n",
    "stops_num = len(stops)\n",
    "pasajeros = []\n",
    "entradas = 0\n",
    "salidas = 0\n",
    "pre_resultado = []\n",
    "\n",
    "\n",
    "for stop in stops:\n",
    "    entradas = entradas + stop[0]\n",
    "    salidas = salidas + stop[1]\n",
    "    pasajeros.append(entradas - salidas)\n",
    "\n",
    "\n",
    "pasajeros_media = round(sum(pasajeros) / len(pasajeros), 2)\n",
    "\n",
    "\n",
    "for pasajeros_grupo in pasajeros:\n",
    "    pre_resultado.append((pasajeros_grupo - pasajeros_media) ** 2)\n",
    "\n",
    "\n",
    "desviacion_tipica = round((sum(pre_resultado) / len(pasajeros)) ** 0.5, 2)\n",
    "\n",
    "\n",
    "print(f\"\"\"El autobús hace {stops_num} paradas.\n",
    "Estos son los pasajeros de cada una: {pasajeros}\n",
    "Por tanto, el máximo de ocupación es {max(pasajeros)}.\n",
    "La media de ocupación es de {pasajeros_media}.\n",
    "La desviación estándar es de {desviacion_tipica}.\n",
    "\"\"\")\n"
   ]
  }
 ],
 "metadata": {
  "kernelspec": {
   "display_name": "Python 3.9.13 ('rampup_py39')",
   "language": "python",
   "name": "python3"
  },
  "language_info": {
   "codemirror_mode": {
    "name": "ipython",
    "version": 3
   },
   "file_extension": ".py",
   "mimetype": "text/x-python",
   "name": "python",
   "nbconvert_exporter": "python",
   "pygments_lexer": "ipython3",
   "version": "3.9.13"
  },
  "vscode": {
   "interpreter": {
    "hash": "ccd73dff658b90c814f361770cd5a3dab87039092a3bab574f62f16369220d7f"
   }
  }
 },
 "nbformat": 4,
 "nbformat_minor": 2
}
