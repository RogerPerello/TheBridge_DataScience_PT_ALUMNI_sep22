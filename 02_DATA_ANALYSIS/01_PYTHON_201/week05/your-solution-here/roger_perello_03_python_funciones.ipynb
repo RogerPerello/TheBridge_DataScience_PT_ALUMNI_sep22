{
 "cells": [
  {
   "cell_type": "markdown",
   "metadata": {},
   "source": [
    "## Programación Data Science"
   ]
  },
  {
   "cell_type": "markdown",
   "metadata": {},
   "source": [
    "## Ejercicio 1\n",
    "\n",
    "Definid una función que pueda recibir un número de parámetros cualquiera, superior a 1, y que devuelva el resultado de sumar el resultado de aplicar la función que recibe como primer parámetro a cada uno de los otros parámetros.\n",
    "\n",
    "Por ejemplo, si la función recibe como primer argumento una función que calcula cuadrados, como segundo argumento un 5, y como tercer argumento un 10, debería devolver $5^2 + 10^2 = 125$\n",
    "\n",
    "Llamad a la función definida con los valores del ejemplo mencionado en el enunciado, y comprobad que se obtiene el resultado correcto. Comprobad también que la función devuelve los resultados esperados para una llamada con dos argumentos y con cinco argumentos.\n"
   ]
  },
  {
   "cell_type": "code",
   "execution_count": 4,
   "metadata": {},
   "outputs": [
    {
     "name": "stdout",
     "output_type": "stream",
     "text": [
      "125\n",
      "4\n",
      "361640\n"
     ]
    }
   ],
   "source": [
    "def calcula_cuadrados(x):\n",
    "    return x ** 2\n",
    "\n",
    "def suma_funcion(funcion, *args):\n",
    "    return sum(funcion(arg) for arg in args)\n",
    "\n",
    "\n",
    "print(suma_funcion(calcula_cuadrados, 5, 10)) # 25 + 100 = 125\n",
    "print(suma_funcion(calcula_cuadrados, 2)) # 4 = 4\n",
    "print(suma_funcion(calcula_cuadrados, 2, 6, 40, 600)) # 4 + 36 + 1600 + 360000 = 361640\n"
   ]
  },
  {
   "cell_type": "markdown",
   "metadata": {},
   "source": [
    "## Ejercicio 2\n",
    "\n",
    "Definid una función que reciba dos parámetros, una lista de enteros y un entero, y devuelva una lista con los mismos elementos que la lista original eliminando todas las apariciones del entero especificado.\n",
    "\n",
    " Implementad una función que modifique la lista original. Haced una llamada a la función definida y mostrad que, efectivamente, la lista original se modifica."
   ]
  },
  {
   "cell_type": "code",
   "execution_count": 21,
   "metadata": {},
   "outputs": [
    {
     "name": "stdout",
     "output_type": "stream",
     "text": [
      "Función: [1, 3, 4, 5, 6, 7, 8]\n",
      "Lista original: [1, 3, 4, 5, 6, 7, 8]\n"
     ]
    }
   ],
   "source": [
    "lista_enteros = [1,2,3,2,4,5,2,6,7,2,8]\n",
    "\n",
    "\n",
    "def quita_enteros(enteros, entero):\n",
    "    global lista_enteros\n",
    "    lista_enteros = [numero for numero in enteros if numero != entero]\n",
    "    return lista_enteros\n",
    "\n",
    "\n",
    "print(f\"Función: {quita_enteros(lista_enteros, 2)}\")\n",
    "print(f\"Lista original: {lista_enteros}\")\n"
   ]
  },
  {
   "cell_type": "markdown",
   "metadata": {},
   "source": [
    "## Ejercicio 3\n",
    "\n",
    "Implementad una función que no modifique la lista original. Haced una llamada a la función definida y mostrad que, efectivamente, no se modifica la lista original."
   ]
  },
  {
   "cell_type": "code",
   "execution_count": 24,
   "metadata": {},
   "outputs": [
    {
     "name": "stdout",
     "output_type": "stream",
     "text": [
      "Función: [1, 3, 4, 5, 6, 7, 8]\n",
      "Lista original: [1, 2, 3, 2, 4, 5, 2, 6, 7, 2, 8]\n"
     ]
    }
   ],
   "source": [
    "lista_enteros = [1,2,3,2,4,5,2,6,7,2,8]\n",
    "\n",
    "\n",
    "def quita_enteros(enteros, entero):\n",
    "    return [numero for numero in enteros if numero != entero]\n",
    "\n",
    "\n",
    "print(f\"Función: {quita_enteros(lista_enteros, 2)}\")\n",
    "print(f\"Lista original: {lista_enteros}\")\n"
   ]
  }
 ],
 "metadata": {
  "kernelspec": {
   "display_name": "Python 3.9.13 ('rampup_py39')",
   "language": "python",
   "name": "python3"
  },
  "language_info": {
   "codemirror_mode": {
    "name": "ipython",
    "version": 3
   },
   "file_extension": ".py",
   "mimetype": "text/x-python",
   "name": "python",
   "nbconvert_exporter": "python",
   "pygments_lexer": "ipython3",
   "version": "3.9.13"
  },
  "orig_nbformat": 4,
  "vscode": {
   "interpreter": {
    "hash": "ccd73dff658b90c814f361770cd5a3dab87039092a3bab574f62f16369220d7f"
   }
  }
 },
 "nbformat": 4,
 "nbformat_minor": 2
}
