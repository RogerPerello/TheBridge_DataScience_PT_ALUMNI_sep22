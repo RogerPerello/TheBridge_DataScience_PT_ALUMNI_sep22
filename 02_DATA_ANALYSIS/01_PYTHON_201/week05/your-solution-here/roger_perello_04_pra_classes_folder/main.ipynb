{
 "cells": [
  {
   "cell_type": "markdown",
   "metadata": {},
   "source": [
    "## Ejercicio 1\n",
    "Somos una empresa que tiene varias tiendas de electrodomesticos. Necesitamos un programa para manejar las tiendas, ver las ventas que han tenido, cuántos empleados hay, etc... Para ello vamos a modelizar la tienda en una clase, que tendrá las siguientes características:\n",
    "\n",
    "* Nombre clase: \"Tienda\"\n",
    "* Atributos comunes:\n",
    "    * Tipo: \"Electrodomésticos\"\n",
    "    * Abierta: True\n",
    "* Atributos propios de cada tienda:\n",
    "    * Nombre - String\n",
    "    * Dirección - String\n",
    "    * Número de empleados - int\n",
    "    * Ventas ultimos 3 meses - Lista de 3 numeros\n",
    "* Método para calcular las ventas de todos los meses, que devuelva un numero con todas las ventas.\n",
    "* Método que calcula la media de ventas de los ultimos meses, por empleado\n",
    "* Método que devuelve en un string el nombre de la tienda, junto con su dirección.\n",
    "* Método que obtiene las ventas del último mes.\n",
    "* Método para dar una proyección de las ventas en caso de haber invertido X dinero en marketing en esa tienda. Siendo X el parámetro de entrada. Si X es menor de 1000, las ventas de los ultimos 3 meses hubiesen sido de (1.2 x ventas), si es mayor o igual de 1000, las ventas hubiesen sido de (1.5 x venta). El método reescribe el atributo de ventas en los últimos 3 meses, y además devuelve las ventas con el aumento.\n",
    "\n",
    "* Se pide:\n",
    "1. Implementar la clase \"Tienda\"\n",
    "2. Crear tres tiendas con datos inventados\n",
    "3. Comprueba en al menos una de ellas, todo lo implementado en la clase tienda (sus atributos, media de ventas, ventas/empleado...)\n",
    "4. Calcular las ventas del último mes de todas las tiendas. Para ello usa el bucle `for`\n",
    "5. Imprime por pantalla los nombres de las tiendas cuya dirección lleve el string \"Avenida\"\n",
    "6. Utilizad este notebook para ejecutar y un fichero para definir vuestras clases, métodos y funciones.\n",
    "7. Seguro que ya has hecho este apartado... Documenta la clase :)"
   ]
  },
  {
   "cell_type": "code",
   "execution_count": 3,
   "metadata": {},
   "outputs": [
    {
     "name": "stdout",
     "output_type": "stream",
     "text": [
      "Tipo de tienda: Electrodomésticos\n",
      "¿La tienda está abierta? True\n",
      "\n",
      "\n",
      "Nombre: Dyson\n",
      "Dirección: Paseo de Gracia\n",
      "Número de empleados: 6\n",
      "Ventas de los últimos tres meses sin marketing: [200, 530, 330]\n",
      "\n",
      "\n",
      "Nombre y dirección: Dyson, en Paseo de Gracia\n",
      "Ventas totales de los últimos tres meses sin marketing: 1060\n",
      "Media de las ventas de los últimos tres meses por empleado sin marketing: 176.67\n",
      "Ventas del último mes sin marketing: 330\n",
      "Ventas de los últimos tres meses (se activa el marketing): [300, 795, 495]\n",
      "\n",
      "\n",
      "Nombre y dirección: Dyson, en Paseo de Gracia\n",
      "Ventas totales de los últimos tres meses con marketing: 1590\n",
      "Media de las ventas de los últimos tres meses por empleado con marketing: 265.0\n",
      "Ventas del último mes con marketing: 495\n",
      "El marketing ya está activado, con una inversión de 1010\n",
      "\n",
      "\n",
      "Si comparamos el último mes de Dyson con otras dos tiendas:\n",
      "- Dyson ha tenido unas ventas de 495 con marketing\n",
      "- Bosch ha tenido unas ventas de 221 sin marketing\n",
      "- Media Markt ha tenido unas ventas de 454 sin marketing\n",
      "Por cierto, Media Markt se encuentra en una avenida\n"
     ]
    }
   ],
   "source": [
    "from setup.config import Tienda # importamos la clase Tienda, la que pide el ejercicio\n",
    "from utils.utils import Pruebas # importamos la clase Pruebas, que contiene las funciones para comprobar la clase Tienda\n",
    "\n",
    "if __name__ == \"__main__\":\n",
    "    \"\"\"Aquí van las instancias de clase Tienda que nos interesan\"\"\"\n",
    "    mi_tienda = Tienda(\"Dyson\", \"Paseo de Gracia\", 6, [200, 530, 330])\n",
    "    tu_tienda = Tienda(\"Bosch\", \"Gran Vía\", 14, [601, 420, 221])\n",
    "    su_tienda = Tienda(\"Media Markt\", \"Avenida Diagonal\", 33, [234, 967, 454])\n",
    "\n",
    "    pruebas_a = Pruebas(mi_tienda) # Creamos la instancia de clase Prueba para la tienda que queremos comprobar\n",
    "\n",
    "\n",
    "    \"\"\"Aquí llamamos los métodos que llevan a cabo las comprobaciones\"\"\"\n",
    "    pruebas_a.da_atributos_clase()\n",
    "    pruebas_a.da_atributos_instancia()\n",
    "    pruebas_a.da_metodos_instancia(1010) # Se requiere la inversión en marketing elegida como argumento\n",
    "    pruebas_a.da_metodos_instancia(500) # Llamamos a este dos veces para demostrar que las ventas de los últimos 3 meses han cambiado con el marketing \n",
    "    pruebas_a.da_info_ultimo_mes(tu_tienda, su_tienda) # Para este último, necesitaremos dos tiendas más como parámetro para comparar\n"
   ]
  }
 ],
 "metadata": {
  "kernelspec": {
   "display_name": "Python 3.9.13 ('rampup_py39')",
   "language": "python",
   "name": "python3"
  },
  "language_info": {
   "codemirror_mode": {
    "name": "ipython",
    "version": 3
   },
   "file_extension": ".py",
   "mimetype": "text/x-python",
   "name": "python",
   "nbconvert_exporter": "python",
   "pygments_lexer": "ipython3",
   "version": "3.9.13"
  },
  "orig_nbformat": 4,
  "vscode": {
   "interpreter": {
    "hash": "ccd73dff658b90c814f361770cd5a3dab87039092a3bab574f62f16369220d7f"
   }
  }
 },
 "nbformat": 4,
 "nbformat_minor": 2
}
