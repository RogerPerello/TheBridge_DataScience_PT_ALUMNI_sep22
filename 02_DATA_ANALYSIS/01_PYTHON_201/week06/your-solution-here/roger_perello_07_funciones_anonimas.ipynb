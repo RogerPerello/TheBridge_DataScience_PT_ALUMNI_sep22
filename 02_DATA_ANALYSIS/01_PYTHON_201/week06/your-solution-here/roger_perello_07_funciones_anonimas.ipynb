{
 "cells": [
  {
   "cell_type": "markdown",
   "metadata": {},
   "source": [
    "# Funciones anónimas\n",
    "\n",
    "- lambda\n",
    "- map\n",
    "- reduce\n",
    "- filter"
   ]
  },
  {
   "cell_type": "markdown",
   "metadata": {},
   "source": [
    "## Lambda\n",
    "\n",
    "Se utiliza una única expresión, es evaluada con argumentos cuando se llama la función, y el resultado de esta evaluación es el valor que devuelve la función\n",
    "\n",
    "https://docs.python.org/3/tutorial/controlflow.html?highlight=lambda#lambda-expressions\n",
    "\n",
    "```\n",
    "lambda par1, par2 : expr1, expr2\n",
    "\n",
    "```\n",
    "\n",
    "![](funcion_lambda.gif)"
   ]
  },
  {
   "cell_type": "code",
   "execution_count": 1,
   "metadata": {},
   "outputs": [
    {
     "data": {
      "text/plain": [
       "<function __main__.<lambda>(x, y)>"
      ]
     },
     "execution_count": 1,
     "metadata": {},
     "output_type": "execute_result"
    }
   ],
   "source": [
    "# Definimos una función lambda que suma dos valores\n",
    "lambda x, y : x+y"
   ]
  },
  {
   "cell_type": "code",
   "execution_count": 2,
   "metadata": {},
   "outputs": [
    {
     "data": {
      "text/plain": [
       "14"
      ]
     },
     "execution_count": 2,
     "metadata": {},
     "output_type": "execute_result"
    }
   ],
   "source": [
    "# definimos una función lambda que suma dos valores y la llamamos\n",
    "(lambda x, y : x+y)(5,9)"
   ]
  },
  {
   "cell_type": "code",
   "execution_count": 3,
   "metadata": {},
   "outputs": [],
   "source": [
    "# Definimos una función lambda que suma dos valores y le asignamos a una variable suma\n",
    "suma = lambda x,y : x+y"
   ]
  },
  {
   "cell_type": "code",
   "execution_count": 4,
   "metadata": {},
   "outputs": [
    {
     "data": {
      "text/plain": [
       "9"
      ]
     },
     "execution_count": 4,
     "metadata": {},
     "output_type": "execute_result"
    }
   ],
   "source": [
    "suma(5,4)"
   ]
  },
  {
   "cell_type": "code",
   "execution_count": 5,
   "metadata": {},
   "outputs": [
    {
     "data": {
      "text/plain": [
       "15"
      ]
     },
     "execution_count": 5,
     "metadata": {},
     "output_type": "execute_result"
    }
   ],
   "source": [
    "suma(6,9)"
   ]
  },
  {
   "cell_type": "markdown",
   "metadata": {},
   "source": [
    "## Map\n",
    "\n",
    "la función `map` recibe como parámetros una función (built-in, custom, lambda) y un iterable, y devuelve un iterador que aplica la función proporcionada a cada uno de los elementos del iterable.\n",
    "\n",
    "https://docs.python.org/3/library/functions.html#map\n",
    "\n",
    "```\n",
    "map(fun, iterable)\n",
    "```"
   ]
  },
  {
   "cell_type": "code",
   "execution_count": 6,
   "metadata": {},
   "outputs": [],
   "source": [
    "def suma_dos(x):\n",
    "    \"\"\"Añade 2 al valor que recibe como parámetro\"\"\"\n",
    "    return x + 2\n",
    "\n",
    "# Aplicamos la función a cada uno de los elementos de un iterable, lista\n",
    "lista = [5, 7, 8, 9, 1]\n",
    "op_suma = map(suma_dos, lista)"
   ]
  },
  {
   "cell_type": "code",
   "execution_count": 7,
   "metadata": {},
   "outputs": [
    {
     "data": {
      "text/plain": [
       "<map at 0x1ea1ce9eee0>"
      ]
     },
     "execution_count": 7,
     "metadata": {},
     "output_type": "execute_result"
    }
   ],
   "source": [
    "op_suma # devuelve un iterador"
   ]
  },
  {
   "cell_type": "markdown",
   "metadata": {},
   "source": [
    "```\n",
    "lista = []\n",
    "for n in op_suma:\n",
    "    if n % 2 == 0:\n",
    "        lista.append(n)\n",
    "```"
   ]
  },
  {
   "cell_type": "code",
   "execution_count": 8,
   "metadata": {},
   "outputs": [],
   "source": [
    "lista_2 = [n for n in op_suma if n % 2 == 0]"
   ]
  },
  {
   "cell_type": "code",
   "execution_count": 9,
   "metadata": {},
   "outputs": [
    {
     "data": {
      "text/plain": [
       "[10]"
      ]
     },
     "execution_count": 9,
     "metadata": {},
     "output_type": "execute_result"
    }
   ],
   "source": [
    "lista_2"
   ]
  },
  {
   "cell_type": "code",
   "execution_count": 10,
   "metadata": {},
   "outputs": [
    {
     "data": {
      "text/plain": [
       "[]"
      ]
     },
     "execution_count": 10,
     "metadata": {},
     "output_type": "execute_result"
    }
   ],
   "source": [
    "list(op_suma)"
   ]
  },
  {
   "cell_type": "code",
   "execution_count": 11,
   "metadata": {},
   "outputs": [
    {
     "data": {
      "text/plain": [
       "[]"
      ]
     },
     "execution_count": 11,
     "metadata": {},
     "output_type": "execute_result"
    }
   ],
   "source": [
    "list(op_suma)"
   ]
  },
  {
   "cell_type": "code",
   "execution_count": 12,
   "metadata": {},
   "outputs": [
    {
     "name": "stdout",
     "output_type": "stream",
     "text": [
      "[]\n"
     ]
    }
   ],
   "source": [
    "print(list(op_suma))"
   ]
  },
  {
   "cell_type": "code",
   "execution_count": 13,
   "metadata": {},
   "outputs": [
    {
     "name": "stdout",
     "output_type": "stream",
     "text": [
      "5\n",
      "7\n",
      "8\n",
      "9\n",
      "1\n"
     ]
    }
   ],
   "source": [
    "for n in lista:\n",
    "    print(n)"
   ]
  },
  {
   "cell_type": "code",
   "execution_count": 14,
   "metadata": {},
   "outputs": [
    {
     "data": {
      "text/plain": [
       "[7, 9, 10, 11, 3]"
      ]
     },
     "execution_count": 14,
     "metadata": {},
     "output_type": "execute_result"
    }
   ],
   "source": [
    "[suma_dos(x) for x in lista]"
   ]
  },
  {
   "cell_type": "code",
   "execution_count": 15,
   "metadata": {},
   "outputs": [
    {
     "data": {
      "text/plain": [
       "map"
      ]
     },
     "execution_count": 15,
     "metadata": {},
     "output_type": "execute_result"
    }
   ],
   "source": [
    "type(op_suma)"
   ]
  },
  {
   "cell_type": "code",
   "execution_count": 16,
   "metadata": {},
   "outputs": [],
   "source": [
    "# Definimos una función que convierte cadenas de caracteres que expresan\n",
    "#valores numéricos (decimales) en enteros\n",
    "def convert_to_int(x):\n",
    "    ''' valores string numéricos (decimales) en enteros '''\n",
    "    return int(float(x))"
   ]
  },
  {
   "cell_type": "code",
   "execution_count": 17,
   "metadata": {},
   "outputs": [
    {
     "data": {
      "text/plain": [
       "[50, 15, 120000]"
      ]
     },
     "execution_count": 17,
     "metadata": {},
     "output_type": "execute_result"
    }
   ],
   "source": [
    "lista = [\"50.6\", \"15.4\", \"120000\"]\n",
    "\n",
    "# Guardamos los resultados en un objeto lista\n",
    "#conv = list(map(convert_to_int, lista))\n",
    "\n",
    "# Alternativa con list comprehension\n",
    "conv = [n for n in map(convert_to_int, lista)]\n",
    "conv"
   ]
  },
  {
   "cell_type": "code",
   "execution_count": 18,
   "metadata": {},
   "outputs": [
    {
     "ename": "SyntaxError",
     "evalue": "invalid syntax (1738488647.py, line 9)",
     "output_type": "error",
     "traceback": [
      "\u001b[1;36m  Input \u001b[1;32mIn [18]\u001b[1;36m\u001b[0m\n\u001b[1;33m    factor =\u001b[0m\n\u001b[1;37m             ^\u001b[0m\n\u001b[1;31mSyntaxError\u001b[0m\u001b[1;31m:\u001b[0m invalid syntax\n"
     ]
    }
   ],
   "source": [
    "# Crear una función que calcula el precio de un piso a partir de los metros cuadrados, el estado de conservación, y el vecindario\n",
    "\n",
    "def compute_price(sqm, status, neigh):\n",
    "    '''Calcular el precio del piso'''\n",
    "\n",
    "    #TODO\n",
    "    # declarar los parámetros\n",
    "    price_sqm = 1000\n",
    "    factor = \n",
    "    # Realizar el cálculo\n",
    "\n",
    "    # Si el piso se encuentra en un barrio pijo, se aplica un factor\n",
    "    # multiplicativo al precio del piso\n",
    "\n",
    "    # Si es piso se encuentra en un barrio chungo, se le resta un factor\n",
    "\n",
    "    # Si el piso es nuevo, nueva construcción, hay un factor multiplicativo \n",
    "    # al precio del piso\n",
    "\n",
    "    return price"
   ]
  },
  {
   "cell_type": "code",
   "execution_count": 22,
   "metadata": {},
   "outputs": [
    {
     "ename": "NameError",
     "evalue": "name 'compute_price' is not defined",
     "output_type": "error",
     "traceback": [
      "\u001b[1;31m---------------------------------------------------------------------------\u001b[0m",
      "\u001b[1;31mNameError\u001b[0m                                 Traceback (most recent call last)",
      "\u001b[1;32mc:\\Users\\Roger\\Desktop\\THEBRIDGE\\TheBridge_DataScience_PT_ALUMNI_sep22\\02_DATA_ANALYSIS\\01_PYTHON_201\\week06\\your-solution-here\\roger_perello_07_funciones_anonimas.ipynb Celda 23\u001b[0m in \u001b[0;36m<cell line: 2>\u001b[1;34m()\u001b[0m\n\u001b[0;32m      <a href='vscode-notebook-cell:/c%3A/Users/Roger/Desktop/THEBRIDGE/TheBridge_DataScience_PT_ALUMNI_sep22/02_DATA_ANALYSIS/01_PYTHON_201/week06/your-solution-here/roger_perello_07_funciones_anonimas.ipynb#X31sZmlsZQ%3D%3D?line=0'>1</a>\u001b[0m \u001b[39m# si al realizar la operación\u001b[39;00m\n\u001b[1;32m----> <a href='vscode-notebook-cell:/c%3A/Users/Roger/Desktop/THEBRIDGE/TheBridge_DataScience_PT_ALUMNI_sep22/02_DATA_ANALYSIS/01_PYTHON_201/week06/your-solution-here/roger_perello_07_funciones_anonimas.ipynb#X31sZmlsZQ%3D%3D?line=1'>2</a>\u001b[0m compute_price(\u001b[39m100\u001b[39m, \u001b[39m\"\u001b[39m\u001b[39mNuevo\u001b[39m\u001b[39m\"\u001b[39m, \u001b[39m\"\u001b[39m\u001b[39mA\u001b[39m\u001b[39m\"\u001b[39m)\n",
      "\u001b[1;31mNameError\u001b[0m: name 'compute_price' is not defined"
     ]
    }
   ],
   "source": [
    "# si al realizar la operación\n",
    "compute_price(100, \"Nuevo\", \"A\")"
   ]
  },
  {
   "cell_type": "code",
   "execution_count": 21,
   "metadata": {},
   "outputs": [
    {
     "ename": "SyntaxError",
     "evalue": "invalid syntax (4150539736.py, line 2)",
     "output_type": "error",
     "traceback": [
      "\u001b[1;36m  Input \u001b[1;32mIn [21]\u001b[1;36m\u001b[0m\n\u001b[1;33m    sqm_list = [......]\u001b[0m\n\u001b[1;37m                   ^\u001b[0m\n\u001b[1;31mSyntaxError\u001b[0m\u001b[1;31m:\u001b[0m invalid syntax\n"
     ]
    }
   ],
   "source": [
    "# Y si tengo más pisos?\n",
    "sqm_list = [......]\n",
    "status_list = [.......]\n",
    "neigh_list = [.....]\n",
    "\n",
    "lista_precio = list(map(compute_price, params...))"
   ]
  },
  {
   "cell_type": "markdown",
   "metadata": {},
   "source": [
    "# Filter\n",
    "\n",
    "la función `filter` recibe también parámetros y un iterable, devuelve un iterador recorre los elementos , evalua la función cuando esta sea True\n",
    "\n",
    "```\n",
    "filter(fun, iterable)\n",
    "```"
   ]
  },
  {
   "cell_type": "code",
   "execution_count": 19,
   "metadata": {},
   "outputs": [],
   "source": [
    "# Definimos la función is_numeric devuelve True si recibe un entero o un \n",
    "# flotante como argumento, False en caso contrario\n",
    "\n",
    "def is_numeric(x):\n",
    "    if type(x) == float or type(x) == int:\n",
    "        return True\n",
    "    return False"
   ]
  },
  {
   "cell_type": "code",
   "execution_count": 20,
   "metadata": {},
   "outputs": [
    {
     "data": {
      "text/plain": [
       "[1, 2, 5, 5.6, 6]"
      ]
     },
     "execution_count": 20,
     "metadata": {},
     "output_type": "execute_result"
    }
   ],
   "source": [
    "# Definimos una lista\n",
    "lista_mixta = [1, 2, \"Three\", \"four\", 5 , 5.6, 6, [2, 5.4, 0], None, True]\n",
    "\n",
    "# aplicamos filter de la lista con la función is_numeric\n",
    "resultado = list(filter(is_numeric, lista_mixta))\n",
    "resultado"
   ]
  },
  {
   "cell_type": "markdown",
   "metadata": {},
   "source": [
    "# Reduce\n",
    "\n",
    "La función `reduce` recibe una función y un iterable. La función aplica de manera acumulativa, la función recibe como argumento los elementos del iterable. Tiene que devolver un solo valor. \n",
    "\n",
    "```\n",
    "f(f(f(1,2), 3), 4)\n",
    "\n",
    "```"
   ]
  },
  {
   "cell_type": "code",
   "execution_count": 23,
   "metadata": {},
   "outputs": [],
   "source": [
    "def max_dos(x, y):\n",
    "    if x > y:\n",
    "        return x\n",
    "    else:\n",
    "        return y"
   ]
  },
  {
   "cell_type": "code",
   "execution_count": 24,
   "metadata": {},
   "outputs": [
    {
     "data": {
      "text/plain": [
       "4"
      ]
     },
     "execution_count": 24,
     "metadata": {},
     "output_type": "execute_result"
    }
   ],
   "source": [
    "from functools import reduce\n",
    "\n",
    "lista = [1, 2, 3, 4]\n",
    "reduce(max_dos, lista)"
   ]
  },
  {
   "cell_type": "code",
   "execution_count": 25,
   "metadata": {},
   "outputs": [
    {
     "data": {
      "text/plain": [
       "4"
      ]
     },
     "execution_count": 25,
     "metadata": {},
     "output_type": "execute_result"
    }
   ],
   "source": [
    "max_dos(max_dos(max_dos(1, 2), 3), 4)"
   ]
  },
  {
   "cell_type": "markdown",
   "metadata": {},
   "source": [
    "### Lab 01\n",
    "Veremos un ejemplo que combina las tres funciones (reduce, map, filter). Supongamos que queremos definir una función que reciba una lista y devuelva el producto de los cuadrados de todos los elementos impares de la lista. Combinando las tres funciones."
   ]
  },
  {
   "cell_type": "code",
   "execution_count": 26,
   "metadata": {},
   "outputs": [],
   "source": [
    "# Definimos una función que devuelve el producto de dos valores\n",
    "def prod_dos_valores(x, y):\n",
    "    return x * y\n",
    "\n",
    "# Definimos una función que devuelve el cuadrado de un valor\n",
    "def square(x):\n",
    "    return x ** 2\n",
    "\n",
    "# Definimos una función que devuelve True si el valor es impar y False en caso contrario\n",
    "def is_odd(x):\n",
    "    return x % 2 != 0\n"
   ]
  },
  {
   "cell_type": "code",
   "execution_count": 27,
   "metadata": {},
   "outputs": [],
   "source": [
    "# Definimos la función completa devuelve el producto de los cuadrados de los valores impares de una lista\n",
    "def prod_sq_if_odd(lista):\n",
    "    return reduce(prod_dos_valores, map(square, filter(is_odd, lista)))\n"
   ]
  },
  {
   "cell_type": "code",
   "execution_count": 28,
   "metadata": {},
   "outputs": [
    {
     "name": "stdout",
     "output_type": "stream",
     "text": [
      "2025\n"
     ]
    }
   ],
   "source": [
    "print(5**2 * 9**2)"
   ]
  },
  {
   "cell_type": "code",
   "execution_count": 29,
   "metadata": {},
   "outputs": [
    {
     "data": {
      "text/plain": [
       "2025"
      ]
     },
     "execution_count": 29,
     "metadata": {},
     "output_type": "execute_result"
    }
   ],
   "source": [
    "lista_valores = [5, 6, 9, 8]\n",
    "prod_sq_if_odd(lista_valores)"
   ]
  },
  {
   "cell_type": "code",
   "execution_count": 30,
   "metadata": {},
   "outputs": [],
   "source": [
    "# Realizar la misma función con lambda , map, filter, reduce\n",
    "\n",
    "# Definimos la función completa devuelve el producto de los cuadrados de los valores impares de una lista\n",
    "def prod_sq_if_odd(lista):\n",
    "    return reduce(lambda x,y :x*y, \n",
    "                    map(lambda x: x**2, \n",
    "                        filter(lambda x: x%2, lista)))"
   ]
  },
  {
   "cell_type": "code",
   "execution_count": 31,
   "metadata": {},
   "outputs": [
    {
     "data": {
      "text/plain": [
       "2025"
      ]
     },
     "execution_count": 31,
     "metadata": {},
     "output_type": "execute_result"
    }
   ],
   "source": [
    "prod_sq_if_odd(lista_valores)"
   ]
  },
  {
   "cell_type": "markdown",
   "metadata": {},
   "source": [
    "***\n",
    "\n",
    "### Lab 02\n",
    "\n",
    "Sumamos 2 a cada uno de los elementos que expresan valores numéricos (posiblemente decimales) de una lista en enteros \n",
    "utilizando una función anónima\n",
    "\n"
   ]
  },
  {
   "cell_type": "code",
   "execution_count": 32,
   "metadata": {},
   "outputs": [
    {
     "data": {
      "text/plain": [
       "[3, 4, 5, 6]"
      ]
     },
     "execution_count": 32,
     "metadata": {},
     "output_type": "execute_result"
    }
   ],
   "source": [
    "lista = [1, 2, 3, 4]\n",
    "\n",
    "lista = list(map(lambda x: int(x + 2), lista))\n",
    "\n",
    "lista\n"
   ]
  },
  {
   "cell_type": "markdown",
   "metadata": {},
   "source": [
    "***\n",
    "\n",
    "### Lab 03\n",
    "\n",
    "Convertimos las cadenas de caracteres que expresan valores numéricos (posiblemente decimales) de una lista en enteros utilizando una función anónima\n"
   ]
  },
  {
   "cell_type": "code",
   "execution_count": 33,
   "metadata": {},
   "outputs": [
    {
     "data": {
      "text/plain": [
       "[42, 13, 12000]"
      ]
     },
     "execution_count": 33,
     "metadata": {},
     "output_type": "execute_result"
    }
   ],
   "source": [
    "lista = [\"42.45\", \"13.4\", \"12000\"]\n",
    "\n",
    "lista = list(map(lambda x: int(float(x)), lista))\n",
    "\n",
    "lista"
   ]
  },
  {
   "cell_type": "markdown",
   "metadata": {},
   "source": [
    "***\n",
    "\n",
    "### Lab 04\n",
    "\n",
    "Filtramos de una lista los valores numéricos"
   ]
  },
  {
   "cell_type": "code",
   "execution_count": 24,
   "metadata": {},
   "outputs": [
    {
     "data": {
      "text/plain": [
       "[1, 2, 5, 5.5, 6, 0, 0, 1]"
      ]
     },
     "execution_count": 24,
     "metadata": {},
     "output_type": "execute_result"
    }
   ],
   "source": [
    "lista = [1, 2, \"three\", \"four\", 5, 5.5, 6, [0, 0, 1], None]\n",
    "\n",
    "\n",
    "lista_en_lista = [valor for valor in lista if isinstance(valor, list)]\n",
    "\n",
    "for valor in lista_en_lista[0]:\n",
    "    lista.append(valor)\n",
    "\n",
    "lista = [valor for valor in lista if isinstance(valor, int) or isinstance(valor, float)]\n",
    "\n",
    "lista\n"
   ]
  },
  {
   "cell_type": "markdown",
   "metadata": {},
   "source": [
    "\n"
   ]
  },
  {
   "cell_type": "markdown",
   "metadata": {},
   "source": [
    "***\n",
    "### Lab 05\n",
    "\n",
    "Calculamos el máximo de una lista con reduce y una función anónima que devuelve el máximo de dos valores"
   ]
  },
  {
   "cell_type": "code",
   "execution_count": 35,
   "metadata": {},
   "outputs": [
    {
     "data": {
      "text/plain": [
       "30"
      ]
     },
     "execution_count": 35,
     "metadata": {},
     "output_type": "execute_result"
    }
   ],
   "source": [
    "from functools import reduce\n",
    "\n",
    "lista = [10, 1, 15, 19, 30]\n",
    "\n",
    "reduce(lambda x, y: x if x > y else y, lista)\n"
   ]
  }
 ],
 "metadata": {
  "kernelspec": {
   "display_name": "Python 3.9.13 ('rampup_py39')",
   "language": "python",
   "name": "python3"
  },
  "language_info": {
   "codemirror_mode": {
    "name": "ipython",
    "version": 3
   },
   "file_extension": ".py",
   "mimetype": "text/x-python",
   "name": "python",
   "nbconvert_exporter": "python",
   "pygments_lexer": "ipython3",
   "version": "3.9.13"
  },
  "orig_nbformat": 4,
  "vscode": {
   "interpreter": {
    "hash": "ccd73dff658b90c814f361770cd5a3dab87039092a3bab574f62f16369220d7f"
   }
  }
 },
 "nbformat": 4,
 "nbformat_minor": 2
}
