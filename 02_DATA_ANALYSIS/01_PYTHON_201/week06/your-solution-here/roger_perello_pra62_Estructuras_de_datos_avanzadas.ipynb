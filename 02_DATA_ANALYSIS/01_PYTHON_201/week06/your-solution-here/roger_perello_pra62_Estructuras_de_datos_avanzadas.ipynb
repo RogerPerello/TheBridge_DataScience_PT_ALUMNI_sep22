{
 "cells": [
  {
   "cell_type": "markdown",
   "metadata": {},
   "source": [
    "# Ejercicios para practicar - Estructura de datos\n",
    "\n",
    "A continuación encontraréis un conjunto de problemas que pueden servir para practicar los conceptos explicados en esta primera unidad, así como para refrescar los conceptos básicos de programación. Os recomendamos que intentéis realizar estos problemas vosotros mismos y que, una vez realizados, comparéis la solución que proponemos con vuestra solución. No dudéis en dirigir todas las dudas que surjan de la resolución de estos ejercicios, o bien de las soluciones propuestas, al foro del aula.\n",
    "\n",
    "1. Decidid cuál es la estructura de datos más adecuada para responder a cada una de las preguntas siguientes y escribid el código que permita responderlas.\n",
    "\n",
    "Disponemos de datos de un conjunto de ciudades del mundo. De cada ciudad, sabemos si tiene más de 14 millones de habitantes, si es capital del país donde se encuentra y si tiene una densidad de población por encima de los 20.000 habitantes por $km^2$:\n",
    "* Las ciudades Shanghai, Beijing, Delhi, Estambul, Karachi, Guangzhou y Kinshasa tienen más de 14 millones de habitantes. El resto de las ciudades de las que tenemos datos tienen 14 millones o menos de habitantes.\n",
    "* Las ciudades Delhi, Beijing, Kinshasa, Tokio, Moscow, Jakarta, Seoul y El Cairo son capitales del país donde se encuentran. El resto de las ciudades de las que tenemos datos no son capitales.\n",
    "* Las ciudades El Cairo, Kinshasa, Delhi y Tokio tienen una densidad de población por encima de los 20.000 habitantes por $km^2$. El resto de las ciudades de las que tenemos datos no superan los 20.000 habitantes por $km^2$. \n",
    "\n",
    "1.1. ¿De cuántas ciudades (diferentes) tenemos datos? Asumiremos que no hay ninguna ciudad que no cumpla al menos una de las propiedades anteriores.\n"
   ]
  },
  {
   "cell_type": "code",
   "execution_count": 1,
   "metadata": {},
   "outputs": [
    {
     "data": {
      "text/plain": [
       "12"
      ]
     },
     "execution_count": 1,
     "metadata": {},
     "output_type": "execute_result"
    }
   ],
   "source": [
    "hab_mas_14 = {'Shanghai', 'Beijing', 'Delhi', 'Estambul', 'Karachi', 'Guangzhou', 'Kinshasa'}\n",
    "capitales = {'Delhi', 'Beijing', 'Kinshasa', 'Tokio', 'Moscow', 'Jakarta', 'Seoul', 'El Cairo'}\n",
    "dens_mas_20k = {'El Cairo', 'Kinshasa', 'Delhi', 'Tokio'}\n",
    "\n",
    "total = hab_mas_14 | capitales | dens_mas_20k\n",
    "\n",
    "len(total)\n"
   ]
  },
  {
   "cell_type": "markdown",
   "metadata": {},
   "source": [
    "1.2. ¿Cuántas ciudades tienen más de 14 millones de habitantes y una densidad de población por encima de los 20.000 habitantes por $ km ^ 2 $?\n"
   ]
  },
  {
   "cell_type": "code",
   "execution_count": 2,
   "metadata": {},
   "outputs": [
    {
     "data": {
      "text/plain": [
       "2"
      ]
     },
     "execution_count": 2,
     "metadata": {},
     "output_type": "execute_result"
    }
   ],
   "source": [
    "len(hab_mas_14 & dens_mas_20k)\n"
   ]
  },
  {
   "cell_type": "markdown",
   "metadata": {},
   "source": [
    "1.3. ¿Qué ciudades tienen una densidad de población por encima de los 20.000 habitantes por $ km ^ 2 $ pero no más de 14 millones de habitantes?\n"
   ]
  },
  {
   "cell_type": "code",
   "execution_count": 3,
   "metadata": {},
   "outputs": [
    {
     "data": {
      "text/plain": [
       "{'El Cairo', 'Tokio'}"
      ]
     },
     "execution_count": 3,
     "metadata": {},
     "output_type": "execute_result"
    }
   ],
   "source": [
    "dens_mas_20k - hab_mas_14\n"
   ]
  },
  {
   "cell_type": "markdown",
   "metadata": {},
   "source": [
    "1.4. ¿Cuál es el país con mayor número de ciudades por encima de 14 millones de habitantes? ¿Cuántas ciudades de estas características hay en cada país?\n",
    "\n",
    "Para responder a estas preguntas, nos faltará añadir información al conjunto de datos de ciudades disponible para realizar la actividad. Pensad cuál sería la estructura de datos más adecuada para almacenar esta información extra y calcular la respuesta a la pregunta planteada.\n"
   ]
  },
  {
   "cell_type": "code",
   "execution_count": 4,
   "metadata": {},
   "outputs": [
    {
     "name": "stdout",
     "output_type": "stream",
     "text": [
      "China: 3\n",
      "India: 1\n",
      "Turquía: 1\n",
      "Pakistán: 1\n",
      "Congo: 1\n",
      "Egipto: 0\n",
      "Indonesia: 0\n",
      "Rusia: 0\n",
      "Corea del Sur: 0\n",
      "Japón: 0\n",
      "\n",
      "País con más ciudades: China\n"
     ]
    }
   ],
   "source": [
    "paises = {'China': ['Shanghai', 'Beijing', 'Guangzhou'],\n",
    "            'India': ['Delhi'],\n",
    "            'Turquía': ['Estambul'],\n",
    "            'Pakistán': ['Karachi'],\n",
    "            'Congo': ['Kinshasa'],\n",
    "            'Egipto': ['El Cairo'],\n",
    "            'Indonesia': ['Jakarta'],\n",
    "            'Rusia': ['Moscow'],\n",
    "            'Corea del Sur': ['Seoul'],\n",
    "            'Japón': ['Tokio']\n",
    "        }\n",
    "\n",
    "\n",
    "for key, value in paises.items():\n",
    "    for city in value:\n",
    "        if city not in hab_mas_14:\n",
    "            paises[key].pop()\n",
    "    print(f'{key}: {len(paises[key])}')\n",
    "\n",
    "\n",
    "print(f'\\nPaís con más ciudades: {max(paises, key=paises.get)}')\n"
   ]
  },
  {
   "cell_type": "markdown",
   "metadata": {},
   "source": [
    "1.5. ¿Cuáles son los dos países adyacentes que tienen el mayor número de ciudades por encima de 14 millones de habitantes?\n",
    "\n",
    "Para responder a esta pregunta, nos faltará añadir más información al conjunto de datos de ciudades disponible para realizar la actividad. De nuevo, pensad cuál sería la estructura de datos más adecuada para almacenar esta información extra y calcular la respuesta a la pregunta planteada.\n",
    "\n"
   ]
  },
  {
   "cell_type": "code",
   "execution_count": 5,
   "metadata": {},
   "outputs": [
    {
     "name": "stdout",
     "output_type": "stream",
     "text": [
      "Combinaciones de dos países adyacentes entre ambos con el mayor número de ciudades (4):\n",
      "China y Pakistán\n",
      "India y China\n"
     ]
    }
   ],
   "source": [
    "paises_adyacentes = {'China': ['India', 'Pakistán', 'Rusia'],\n",
    "                    'India': ['Pakistán', 'China', 'Indonesia'], # Puede considerarse Indonesia como adyacente por su cercanía\n",
    "                    'Pakistán': ['China', 'India'],\n",
    "                    'Indonesia': ['India'],\n",
    "                    'Rusia': ['China'],\n",
    "                    'Corea del Sur': ['Japón'], # Similar a Indonesia, diremos que Japón es adyacente a Corea del Sur por su proximidad\n",
    "                    'Japón': ['Corea del Sur']\n",
    "                    }\n",
    "\n",
    "\n",
    "emparejados_suma = dict()\n",
    "for key, value in paises_adyacentes.items():\n",
    "    hab = len(paises[key])\n",
    "    ady_lista = sorted([[len(paises[city]), city] for city in value], reverse=True)\n",
    "    if f'{ady_lista[0][1]} y {key}' not in emparejados_suma.keys():\n",
    "        emparejados_suma[f'{key} y {ady_lista[0][1]}'] = ady_lista[0][0] + hab\n",
    "\n",
    "\n",
    "maximo = emparejados_suma[max(emparejados_suma, key=emparejados_suma.get)]\n",
    "print(f'Combinaciones de dos países adyacentes entre ambos con el mayor número de ciudades ({maximo}):')\n",
    "for key, value in emparejados_suma.items():\n",
    "    if value == maximo:\n",
    "        print(key)\n"
   ]
  },
  {
   "cell_type": "markdown",
   "metadata": {},
   "source": [
    "2. Calculad cuántas horas ha trabajado la persona que ha escrito la siguiente frase:\n",
    "\n",
    "\"I started working at 17:22:42 and finished at 22:00:00\"\n",
    "\n"
   ]
  },
  {
   "cell_type": "code",
   "execution_count": 6,
   "metadata": {},
   "outputs": [
    {
     "name": "stdout",
     "output_type": "stream",
     "text": [
      "4:37:18\n"
     ]
    }
   ],
   "source": [
    "from datetime import datetime\n",
    "\n",
    "sentence = \"I started working at 17:22:42 and finished at 22:00:00\"\n",
    "\n",
    "start, finish = sentence.split()[4], sentence.split()[-1]\n",
    "\n",
    "start, finish = datetime.strptime(start,'%H:%M:%S'), datetime.strptime(finish,'%H:%M:%S')\n",
    "\n",
    "print(finish - start)\n"
   ]
  },
  {
   "cell_type": "markdown",
   "metadata": {},
   "source": [
    "3. Dada la cadena de caracteres `sentence`, reemplazad todos los espacios en blanco por puntos.\n"
   ]
  },
  {
   "cell_type": "code",
   "execution_count": 7,
   "metadata": {},
   "outputs": [
    {
     "data": {
      "text/plain": [
       "'.From.....time.to.time,.Python.makes..an....incompatible.change..to.the...advertised.semantics.of.core.language.constructs...'"
      ]
     },
     "execution_count": 7,
     "metadata": {},
     "output_type": "execute_result"
    }
   ],
   "source": [
    "sentence = \" From     time to time, Python makes  an    incompatible change \" \\\n",
    "    \" to the   advertised semantics of core language constructs   \"\n",
    "\n",
    "sentence.replace(\" \", \".\")\n"
   ]
  },
  {
   "cell_type": "markdown",
   "metadata": {},
   "source": [
    "4. Dada la misma cadena de caracteres del ejercicio anterior, reemplazad todos los espacios en blanco contiguos por un único punto. Es decir, si encontráis tres espacios en blanco consecutivos, estos se deben reemplazar por un único punto, y no por tres puntos como implementábamos en el ejercicio anterior. Eliminad los espacios que se encuentran al inicio y al final de la cadena antes de sustituirlos por puntos.\n"
   ]
  },
  {
   "cell_type": "code",
   "execution_count": 8,
   "metadata": {},
   "outputs": [
    {
     "data": {
      "text/plain": [
       "'From.time.to.time,.Python.makes.an.incompatible.change.to.the.advertised.semantics.of.core.language.constructs'"
      ]
     },
     "execution_count": 8,
     "metadata": {},
     "output_type": "execute_result"
    }
   ],
   "source": [
    "clean = [digit for digit in sentence.strip().split(' ') if digit != '']\n",
    "\n",
    "\"\".join([digit + '.' if digit != clean[-1] else digit for digit in clean])\n"
   ]
  },
  {
   "cell_type": "markdown",
   "metadata": {},
   "source": [
    "5. Proporcionad una lista con todas las palabras de cuatro letras de la cadena de caracteres `sentence` que empiecen por `t` o `F`.\n"
   ]
  },
  {
   "cell_type": "code",
   "execution_count": 9,
   "metadata": {},
   "outputs": [
    {
     "data": {
      "text/plain": [
       "['From', 'time', 'time']"
      ]
     },
     "execution_count": 9,
     "metadata": {},
     "output_type": "execute_result"
    }
   ],
   "source": [
    "[word for word in sentence.replace(',', '').split() if (word[0] == 't' or word[0] == 'F') and len(word) == 4]\n"
   ]
  },
  {
   "cell_type": "markdown",
   "metadata": {},
   "source": [
    "6. Reemplazad todas las mayúsculas de la cadena `sentence` por interrogantes.\n"
   ]
  },
  {
   "cell_type": "code",
   "execution_count": 10,
   "metadata": {},
   "outputs": [
    {
     "data": {
      "text/plain": [
       "' ?rom     time to time, ?ython makes  an    incompatible change  to the   advertised semantics of core language constructs   '"
      ]
     },
     "execution_count": 10,
     "metadata": {},
     "output_type": "execute_result"
    }
   ],
   "source": [
    "''.join(['?' if digit == digit.capitalize() and digit.isalpha() else digit for digit in sentence])\n"
   ]
  },
  {
   "cell_type": "markdown",
   "metadata": {},
   "source": [
    "7. Una aerolínea nos contrata para ayudarla a optimizar el procedimiento de embarque de sus aviones. La aerolínea dispone de tres clases de billetes: primera, *business* y turista. A la hora de embarcar, los clientes se sitúan en tres colas, una para cada clase. Después, sin embargo, solo hay dos azafatas que les validen la tarjeta de embarque, por lo que las tres colas iniciales se convierten en dos, a partir de las cuales los pasajeros acceden a los aviones.\n",
    "\n",
    "Actualmente, la aerolínea utiliza la siguiente estrategia para convertir las tres colas iniciales (por clase) en las dos colas que embarcan (una por cada azafata):\n",
    "\n",
    "Por un lado, los clientes de primera y *business* van a parar a la cola 1 (cola prioritaria), intercalando un cliente de cada tipo en la cola prioritaria siempre que haya suficientes clientes para hacerlo, y asignando después todos los clientes restantes a la nueva cola. Así, el primer cliente que se asigna a la cola prioritaria es el primer cliente de la clase primera, el segundo cliente de la cola prioritaria será el primer cliente de la cola de *business*, el tercer cliente de la cola prioritaria será el segundo cliente de la clase primera, etc.\n",
    "\n",
    "Por otra parte, los clientes de clase turista van a parar a la cola 2 (cola no prioritaria), siguiendo el orden que tenían en la cola de la clase turista. Ahora bien, si un cliente de clase turista tiene movilidad reducida o va acompañado de niños, entonces este se sitúa al frente de la cola prioritaria. Si hay más de un cliente en estas condiciones, el orden que siguen en la cola de la clase turista se mantiene.\n",
    "\n",
    "Para evaluar cómo de buena es la estrategia, la aerolínea utiliza dos métricas:\n",
    "1. El tiempo que se tarda en embarcar el avión es de 30 segundos por pasajero, considerando que las dos colas (1 y 2) embarcan a la vez. Es decir, si la cola 1 tiene un pasajero y la cola 2 tiene dos, se tardará un minuto en embarcar.\n",
    "2. La satisfacción global de sus clientes, que se calcula haciendo la media de la satisfacción de cada cliente, considerando que:\n"
   ]
  },
  {
   "cell_type": "markdown",
   "metadata": {},
   "source": [
    "* Los clientes de primera tienen una satisfacción de -25 veces el número de posiciones que han perdido en la cola prioritaria respecto a su posición original en la cola de primera. Es decir, un cliente que estaba en tercera posición en la cola de primera y que ocupa la quinta posición de la cola prioritaria, tendrá una satisfacción de -50.\n",
    "* Los clientes de *business* siempre tienen una satisfacción de 0.\n",
    "* Los clientes con billete de clase turista que han sido movidos a la cola prioritaria tienen una satisfacción de 100. En cambio, los que han sido movidos a la cola no prioritaria tienen una satisfacción de 25 si han avanzado alguna posición en la cola 2 respecto a su posición inicial en la cola de la clase turista, o de 0 en cualquier otro caso.\n",
    "\n",
    "Como analistas de datos, evaluaremos la satisfacción y el tiempo de embarque del avión del vuelo 714.\n"
   ]
  },
  {
   "cell_type": "markdown",
   "metadata": {},
   "source": [
    "7.1 Cargad los datos de los pasajeros del vuelo 714 que encontraréis en el dataset `data/flight714.csv` y cread las tres colas, primera, *business* y turista, con los datos de los pasajeros. Los clientes se encuentran ordenados según su posición en la cola, con la columna `client_class` indicando a cuál de las colas pertenecen.\n"
   ]
  },
  {
   "cell_type": "code",
   "execution_count": 11,
   "metadata": {},
   "outputs": [
    {
     "data": {
      "text/html": [
       "<div>\n",
       "<style scoped>\n",
       "    .dataframe tbody tr th:only-of-type {\n",
       "        vertical-align: middle;\n",
       "    }\n",
       "\n",
       "    .dataframe tbody tr th {\n",
       "        vertical-align: top;\n",
       "    }\n",
       "\n",
       "    .dataframe thead th {\n",
       "        text-align: right;\n",
       "    }\n",
       "</style>\n",
       "<table border=\"1\" class=\"dataframe\">\n",
       "  <thead>\n",
       "    <tr style=\"text-align: right;\">\n",
       "      <th></th>\n",
       "      <th>client_id</th>\n",
       "      <th>client_class</th>\n",
       "      <th>has_children</th>\n",
       "      <th>has_reduced_mobility</th>\n",
       "    </tr>\n",
       "  </thead>\n",
       "  <tbody>\n",
       "    <tr>\n",
       "      <th>0</th>\n",
       "      <td>1</td>\n",
       "      <td>p</td>\n",
       "      <td>0</td>\n",
       "      <td>0</td>\n",
       "    </tr>\n",
       "    <tr>\n",
       "      <th>1</th>\n",
       "      <td>2</td>\n",
       "      <td>p</td>\n",
       "      <td>0</td>\n",
       "      <td>0</td>\n",
       "    </tr>\n",
       "    <tr>\n",
       "      <th>2</th>\n",
       "      <td>3</td>\n",
       "      <td>p</td>\n",
       "      <td>0</td>\n",
       "      <td>0</td>\n",
       "    </tr>\n",
       "    <tr>\n",
       "      <th>3</th>\n",
       "      <td>4</td>\n",
       "      <td>b</td>\n",
       "      <td>0</td>\n",
       "      <td>0</td>\n",
       "    </tr>\n",
       "    <tr>\n",
       "      <th>4</th>\n",
       "      <td>5</td>\n",
       "      <td>b</td>\n",
       "      <td>0</td>\n",
       "      <td>0</td>\n",
       "    </tr>\n",
       "    <tr>\n",
       "      <th>5</th>\n",
       "      <td>6</td>\n",
       "      <td>b</td>\n",
       "      <td>0</td>\n",
       "      <td>0</td>\n",
       "    </tr>\n",
       "    <tr>\n",
       "      <th>6</th>\n",
       "      <td>7</td>\n",
       "      <td>b</td>\n",
       "      <td>0</td>\n",
       "      <td>0</td>\n",
       "    </tr>\n",
       "    <tr>\n",
       "      <th>7</th>\n",
       "      <td>8</td>\n",
       "      <td>b</td>\n",
       "      <td>0</td>\n",
       "      <td>0</td>\n",
       "    </tr>\n",
       "    <tr>\n",
       "      <th>8</th>\n",
       "      <td>9</td>\n",
       "      <td>b</td>\n",
       "      <td>0</td>\n",
       "      <td>0</td>\n",
       "    </tr>\n",
       "    <tr>\n",
       "      <th>9</th>\n",
       "      <td>10</td>\n",
       "      <td>b</td>\n",
       "      <td>0</td>\n",
       "      <td>0</td>\n",
       "    </tr>\n",
       "    <tr>\n",
       "      <th>10</th>\n",
       "      <td>11</td>\n",
       "      <td>b</td>\n",
       "      <td>0</td>\n",
       "      <td>0</td>\n",
       "    </tr>\n",
       "    <tr>\n",
       "      <th>11</th>\n",
       "      <td>12</td>\n",
       "      <td>b</td>\n",
       "      <td>0</td>\n",
       "      <td>0</td>\n",
       "    </tr>\n",
       "    <tr>\n",
       "      <th>12</th>\n",
       "      <td>13</td>\n",
       "      <td>b</td>\n",
       "      <td>0</td>\n",
       "      <td>0</td>\n",
       "    </tr>\n",
       "    <tr>\n",
       "      <th>13</th>\n",
       "      <td>14</td>\n",
       "      <td>t</td>\n",
       "      <td>0</td>\n",
       "      <td>0</td>\n",
       "    </tr>\n",
       "    <tr>\n",
       "      <th>14</th>\n",
       "      <td>15</td>\n",
       "      <td>t</td>\n",
       "      <td>1</td>\n",
       "      <td>0</td>\n",
       "    </tr>\n",
       "    <tr>\n",
       "      <th>15</th>\n",
       "      <td>16</td>\n",
       "      <td>t</td>\n",
       "      <td>0</td>\n",
       "      <td>0</td>\n",
       "    </tr>\n",
       "    <tr>\n",
       "      <th>16</th>\n",
       "      <td>17</td>\n",
       "      <td>t</td>\n",
       "      <td>1</td>\n",
       "      <td>0</td>\n",
       "    </tr>\n",
       "    <tr>\n",
       "      <th>17</th>\n",
       "      <td>18</td>\n",
       "      <td>t</td>\n",
       "      <td>0</td>\n",
       "      <td>0</td>\n",
       "    </tr>\n",
       "    <tr>\n",
       "      <th>18</th>\n",
       "      <td>19</td>\n",
       "      <td>t</td>\n",
       "      <td>0</td>\n",
       "      <td>0</td>\n",
       "    </tr>\n",
       "    <tr>\n",
       "      <th>19</th>\n",
       "      <td>20</td>\n",
       "      <td>t</td>\n",
       "      <td>0</td>\n",
       "      <td>0</td>\n",
       "    </tr>\n",
       "    <tr>\n",
       "      <th>20</th>\n",
       "      <td>21</td>\n",
       "      <td>t</td>\n",
       "      <td>0</td>\n",
       "      <td>0</td>\n",
       "    </tr>\n",
       "    <tr>\n",
       "      <th>21</th>\n",
       "      <td>22</td>\n",
       "      <td>t</td>\n",
       "      <td>0</td>\n",
       "      <td>0</td>\n",
       "    </tr>\n",
       "    <tr>\n",
       "      <th>22</th>\n",
       "      <td>23</td>\n",
       "      <td>t</td>\n",
       "      <td>0</td>\n",
       "      <td>0</td>\n",
       "    </tr>\n",
       "    <tr>\n",
       "      <th>23</th>\n",
       "      <td>24</td>\n",
       "      <td>t</td>\n",
       "      <td>0</td>\n",
       "      <td>0</td>\n",
       "    </tr>\n",
       "    <tr>\n",
       "      <th>24</th>\n",
       "      <td>25</td>\n",
       "      <td>t</td>\n",
       "      <td>0</td>\n",
       "      <td>0</td>\n",
       "    </tr>\n",
       "    <tr>\n",
       "      <th>25</th>\n",
       "      <td>26</td>\n",
       "      <td>t</td>\n",
       "      <td>0</td>\n",
       "      <td>0</td>\n",
       "    </tr>\n",
       "    <tr>\n",
       "      <th>26</th>\n",
       "      <td>27</td>\n",
       "      <td>t</td>\n",
       "      <td>0</td>\n",
       "      <td>0</td>\n",
       "    </tr>\n",
       "    <tr>\n",
       "      <th>27</th>\n",
       "      <td>28</td>\n",
       "      <td>t</td>\n",
       "      <td>0</td>\n",
       "      <td>0</td>\n",
       "    </tr>\n",
       "    <tr>\n",
       "      <th>28</th>\n",
       "      <td>29</td>\n",
       "      <td>t</td>\n",
       "      <td>0</td>\n",
       "      <td>0</td>\n",
       "    </tr>\n",
       "    <tr>\n",
       "      <th>29</th>\n",
       "      <td>30</td>\n",
       "      <td>t</td>\n",
       "      <td>0</td>\n",
       "      <td>0</td>\n",
       "    </tr>\n",
       "    <tr>\n",
       "      <th>30</th>\n",
       "      <td>31</td>\n",
       "      <td>t</td>\n",
       "      <td>1</td>\n",
       "      <td>0</td>\n",
       "    </tr>\n",
       "    <tr>\n",
       "      <th>31</th>\n",
       "      <td>32</td>\n",
       "      <td>t</td>\n",
       "      <td>0</td>\n",
       "      <td>0</td>\n",
       "    </tr>\n",
       "    <tr>\n",
       "      <th>32</th>\n",
       "      <td>33</td>\n",
       "      <td>t</td>\n",
       "      <td>0</td>\n",
       "      <td>0</td>\n",
       "    </tr>\n",
       "    <tr>\n",
       "      <th>33</th>\n",
       "      <td>34</td>\n",
       "      <td>t</td>\n",
       "      <td>0</td>\n",
       "      <td>0</td>\n",
       "    </tr>\n",
       "    <tr>\n",
       "      <th>34</th>\n",
       "      <td>35</td>\n",
       "      <td>t</td>\n",
       "      <td>0</td>\n",
       "      <td>0</td>\n",
       "    </tr>\n",
       "    <tr>\n",
       "      <th>35</th>\n",
       "      <td>36</td>\n",
       "      <td>t</td>\n",
       "      <td>0</td>\n",
       "      <td>1</td>\n",
       "    </tr>\n",
       "    <tr>\n",
       "      <th>36</th>\n",
       "      <td>37</td>\n",
       "      <td>t</td>\n",
       "      <td>0</td>\n",
       "      <td>0</td>\n",
       "    </tr>\n",
       "    <tr>\n",
       "      <th>37</th>\n",
       "      <td>38</td>\n",
       "      <td>t</td>\n",
       "      <td>0</td>\n",
       "      <td>0</td>\n",
       "    </tr>\n",
       "    <tr>\n",
       "      <th>38</th>\n",
       "      <td>39</td>\n",
       "      <td>t</td>\n",
       "      <td>0</td>\n",
       "      <td>0</td>\n",
       "    </tr>\n",
       "    <tr>\n",
       "      <th>39</th>\n",
       "      <td>40</td>\n",
       "      <td>t</td>\n",
       "      <td>0</td>\n",
       "      <td>1</td>\n",
       "    </tr>\n",
       "    <tr>\n",
       "      <th>40</th>\n",
       "      <td>41</td>\n",
       "      <td>t</td>\n",
       "      <td>0</td>\n",
       "      <td>0</td>\n",
       "    </tr>\n",
       "    <tr>\n",
       "      <th>41</th>\n",
       "      <td>42</td>\n",
       "      <td>t</td>\n",
       "      <td>0</td>\n",
       "      <td>0</td>\n",
       "    </tr>\n",
       "    <tr>\n",
       "      <th>42</th>\n",
       "      <td>43</td>\n",
       "      <td>t</td>\n",
       "      <td>0</td>\n",
       "      <td>0</td>\n",
       "    </tr>\n",
       "    <tr>\n",
       "      <th>43</th>\n",
       "      <td>44</td>\n",
       "      <td>t</td>\n",
       "      <td>0</td>\n",
       "      <td>0</td>\n",
       "    </tr>\n",
       "    <tr>\n",
       "      <th>44</th>\n",
       "      <td>45</td>\n",
       "      <td>t</td>\n",
       "      <td>0</td>\n",
       "      <td>0</td>\n",
       "    </tr>\n",
       "    <tr>\n",
       "      <th>45</th>\n",
       "      <td>46</td>\n",
       "      <td>t</td>\n",
       "      <td>0</td>\n",
       "      <td>0</td>\n",
       "    </tr>\n",
       "    <tr>\n",
       "      <th>46</th>\n",
       "      <td>47</td>\n",
       "      <td>t</td>\n",
       "      <td>1</td>\n",
       "      <td>1</td>\n",
       "    </tr>\n",
       "    <tr>\n",
       "      <th>47</th>\n",
       "      <td>48</td>\n",
       "      <td>t</td>\n",
       "      <td>0</td>\n",
       "      <td>0</td>\n",
       "    </tr>\n",
       "    <tr>\n",
       "      <th>48</th>\n",
       "      <td>49</td>\n",
       "      <td>t</td>\n",
       "      <td>0</td>\n",
       "      <td>0</td>\n",
       "    </tr>\n",
       "    <tr>\n",
       "      <th>49</th>\n",
       "      <td>50</td>\n",
       "      <td>t</td>\n",
       "      <td>0</td>\n",
       "      <td>0</td>\n",
       "    </tr>\n",
       "  </tbody>\n",
       "</table>\n",
       "</div>"
      ],
      "text/plain": [
       "    client_id client_class  has_children  has_reduced_mobility\n",
       "0           1            p             0                     0\n",
       "1           2            p             0                     0\n",
       "2           3            p             0                     0\n",
       "3           4            b             0                     0\n",
       "4           5            b             0                     0\n",
       "5           6            b             0                     0\n",
       "6           7            b             0                     0\n",
       "7           8            b             0                     0\n",
       "8           9            b             0                     0\n",
       "9          10            b             0                     0\n",
       "10         11            b             0                     0\n",
       "11         12            b             0                     0\n",
       "12         13            b             0                     0\n",
       "13         14            t             0                     0\n",
       "14         15            t             1                     0\n",
       "15         16            t             0                     0\n",
       "16         17            t             1                     0\n",
       "17         18            t             0                     0\n",
       "18         19            t             0                     0\n",
       "19         20            t             0                     0\n",
       "20         21            t             0                     0\n",
       "21         22            t             0                     0\n",
       "22         23            t             0                     0\n",
       "23         24            t             0                     0\n",
       "24         25            t             0                     0\n",
       "25         26            t             0                     0\n",
       "26         27            t             0                     0\n",
       "27         28            t             0                     0\n",
       "28         29            t             0                     0\n",
       "29         30            t             0                     0\n",
       "30         31            t             1                     0\n",
       "31         32            t             0                     0\n",
       "32         33            t             0                     0\n",
       "33         34            t             0                     0\n",
       "34         35            t             0                     0\n",
       "35         36            t             0                     1\n",
       "36         37            t             0                     0\n",
       "37         38            t             0                     0\n",
       "38         39            t             0                     0\n",
       "39         40            t             0                     1\n",
       "40         41            t             0                     0\n",
       "41         42            t             0                     0\n",
       "42         43            t             0                     0\n",
       "43         44            t             0                     0\n",
       "44         45            t             0                     0\n",
       "45         46            t             0                     0\n",
       "46         47            t             1                     1\n",
       "47         48            t             0                     0\n",
       "48         49            t             0                     0\n",
       "49         50            t             0                     0"
      ]
     },
     "execution_count": 11,
     "metadata": {},
     "output_type": "execute_result"
    }
   ],
   "source": [
    "import pandas as pd\n",
    "\n",
    "\n",
    "ruta_fichero = r\"C:\\Users\\Roger\\Desktop\\THEBRIDGE\\TheBridge_DataScience_PT_ALUMNI_sep22\\02_DATA_ANALYSIS\\01_PYTHON_201\\week06\\pracs\\flight714.csv\"\n",
    "df_pasajeros = pd.read_csv(ruta_fichero)\n",
    "\n",
    "\n",
    "df_pasajeros\n"
   ]
  },
  {
   "cell_type": "markdown",
   "metadata": {},
   "source": [
    "7.2 Mostrad cuántos pasajeros hay en cada cola, con el detalle de cuántos de ellos tienen o bien niños o bien movilidad reducida.\n"
   ]
  },
  {
   "cell_type": "code",
   "execution_count": 12,
   "metadata": {},
   "outputs": [
    {
     "name": "stdout",
     "output_type": "stream",
     "text": [
      "Hay 31 no prioritarios y 19 prioritarios, de los cuales 4 con niños y 3 con movilidad reducida (solapados: 1).\n"
     ]
    }
   ],
   "source": [
    "# Este ejercicio lo resolví de 2 maneras. Manera 1:\n",
    "\n",
    "clase_p = df_pasajeros[df_pasajeros['client_class'] == 'p']\n",
    "clase_b = df_pasajeros[df_pasajeros['client_class'] == 'b']\n",
    "niños = df_pasajeros[(df_pasajeros['client_class'] == 't') & (df_pasajeros['has_children'] == 1)]\n",
    "reducida = df_pasajeros[(df_pasajeros['client_class'] == 't') & (df_pasajeros['has_reduced_mobility'] == 1)]\n",
    "solapados = niños.loc[niños['has_children'] == niños['has_reduced_mobility']]\n",
    "\n",
    "\n",
    "prioritarios = (len(clase_p)\n",
    "                + len(clase_b)\n",
    "                + len(niños.loc[niños['has_children'] != niños['has_reduced_mobility']])\n",
    "                + len(reducida)\n",
    "                ) \n",
    "no_prioritarios = len(df_pasajeros['client_class']) - prioritarios\n",
    "\n",
    "\n",
    "print(f\"Hay {no_prioritarios} no prioritarios y {prioritarios} prioritarios, de los cuales {len(niños)} con niños y {len(reducida)} con movilidad reducida (solapados: {len(solapados)}).\")\n"
   ]
  },
  {
   "cell_type": "code",
   "execution_count": 13,
   "metadata": {},
   "outputs": [
    {
     "data": {
      "text/html": [
       "<div>\n",
       "<style scoped>\n",
       "    .dataframe tbody tr th:only-of-type {\n",
       "        vertical-align: middle;\n",
       "    }\n",
       "\n",
       "    .dataframe tbody tr th {\n",
       "        vertical-align: top;\n",
       "    }\n",
       "\n",
       "    .dataframe thead th {\n",
       "        text-align: right;\n",
       "    }\n",
       "</style>\n",
       "<table border=\"1\" class=\"dataframe\">\n",
       "  <thead>\n",
       "    <tr style=\"text-align: right;\">\n",
       "      <th></th>\n",
       "      <th></th>\n",
       "      <th></th>\n",
       "      <th>Nº pasajeros</th>\n",
       "    </tr>\n",
       "    <tr>\n",
       "      <th>prioritarios</th>\n",
       "      <th>has_children</th>\n",
       "      <th>has_reduced_mobility</th>\n",
       "      <th></th>\n",
       "    </tr>\n",
       "  </thead>\n",
       "  <tbody>\n",
       "    <tr>\n",
       "      <th>False</th>\n",
       "      <th>0</th>\n",
       "      <th>0</th>\n",
       "      <td>31</td>\n",
       "    </tr>\n",
       "    <tr>\n",
       "      <th rowspan=\"4\" valign=\"top\">True</th>\n",
       "      <th rowspan=\"2\" valign=\"top\">0</th>\n",
       "      <th>0</th>\n",
       "      <td>13</td>\n",
       "    </tr>\n",
       "    <tr>\n",
       "      <th>1</th>\n",
       "      <td>2</td>\n",
       "    </tr>\n",
       "    <tr>\n",
       "      <th rowspan=\"2\" valign=\"top\">1</th>\n",
       "      <th>0</th>\n",
       "      <td>3</td>\n",
       "    </tr>\n",
       "    <tr>\n",
       "      <th>1</th>\n",
       "      <td>1</td>\n",
       "    </tr>\n",
       "  </tbody>\n",
       "</table>\n",
       "</div>"
      ],
      "text/plain": [
       "                                                Nº pasajeros\n",
       "prioritarios has_children has_reduced_mobility              \n",
       "False        0            0                               31\n",
       "True         0            0                               13\n",
       "                          1                                2\n",
       "             1            0                                3\n",
       "                          1                                1"
      ]
     },
     "execution_count": 13,
     "metadata": {},
     "output_type": "execute_result"
    }
   ],
   "source": [
    "# Manera 2:\n",
    "\n",
    "df_pasajeros['prioritarios'] = ((df_pasajeros['client_class'] == 'p') \n",
    "                                | (df_pasajeros['client_class'] == 'b') \n",
    "                                | ((df_pasajeros['client_class'] == 't') & ((df_pasajeros['has_children'] == 1)\n",
    "                                                                            | (df_pasajeros['has_reduced_mobility'] == 1))\n",
    "                                    )\n",
    "                                )\n",
    "\n",
    "\n",
    "df_prioridades = df_pasajeros.groupby(['prioritarios','has_children','has_reduced_mobility']).count()\n",
    "df_prioridades.drop(columns='client_class')\n",
    "df_prioridades.rename(columns={'client_id': 'Nº pasajeros'}, inplace=True)\n",
    "\n",
    "df_prioridades[df_prioridades.columns[0:1]]\n"
   ]
  },
  {
   "cell_type": "markdown",
   "metadata": {},
   "source": [
    "7.3 Implementad una función que genere las dos colas de embarque (cola prioritaria y cola no prioritaria) a partir de las tres colas obtenidas según la clase del billete del pasajero.\n"
   ]
  },
  {
   "cell_type": "code",
   "execution_count": 14,
   "metadata": {},
   "outputs": [
    {
     "name": "stdout",
     "output_type": "stream",
     "text": [
      "Cola prioritaria: [(2, 't'), (4, 't'), (18, 't'), (23, 't'), (27, 't'), (34, 't'), (1, 'p'), (1, 'b'), (2, 'p'), (2, 'b'), (3, 'p'), (3, 'b'), (4, 'b'), (5, 'b'), (6, 'b'), (7, 'b'), (8, 'b'), (9, 'b'), (10, 'b')]\n",
      "\n",
      "\n",
      "Cola no prioritaria: [(1, 't'), (3, 't'), (5, 't'), (6, 't'), (7, 't'), (8, 't'), (9, 't'), (10, 't'), (11, 't'), (12, 't'), (13, 't'), (14, 't'), (15, 't'), (16, 't'), (17, 't'), (19, 't'), (20, 't'), (21, 't'), (22, 't'), (24, 't'), (25, 't'), (26, 't'), (28, 't'), (29, 't'), (30, 't'), (31, 't'), (32, 't'), (33, 't'), (35, 't'), (36, 't'), (37, 't')]\n"
     ]
    }
   ],
   "source": [
    "def crea_colas(dataframe_colas):\n",
    "    '''Require como argumento posicional un dataframe con la columna client_class (letras 'p', 'b' o 't'), además de las columnas has_children y has_reduced_mobility (números 0 o 1)'''\n",
    "    clase_p_lista = list(enumerate(['p' for i in range(len(dataframe_colas[dataframe_colas['client_class'] == 'p']))], 1))\n",
    "    clase_b_lista = list(enumerate(['b' for i in range(len(dataframe_colas[dataframe_colas['client_class'] == 'b']))], 1))\n",
    "\n",
    "    prioritarios_lista_sin_turistas = []\n",
    "    while clase_p_lista or clase_b_lista:\n",
    "        if clase_p_lista:\n",
    "            prioritarios_lista_sin_turistas.append(clase_p_lista.pop(0))\n",
    "        if clase_b_lista:\n",
    "            prioritarios_lista_sin_turistas.append(clase_b_lista.pop(0))\n",
    "\n",
    "    indice_turistas = list(enumerate(dataframe_colas.index[dataframe_colas['client_class'] == 't'].tolist(), 1))\n",
    "    indice_red_o_nin = dataframe_colas.index[(dataframe_colas['client_class'] == 't') & ((dataframe_colas['has_children'] == 1) \n",
    "                                                                                        | (dataframe_colas['has_reduced_mobility'] == 1)\n",
    "                                                                                        )\n",
    "                                            ].tolist()\n",
    "\n",
    "    no_prioritarios_lista = []\n",
    "    redynin_lista = []\n",
    "    for indice in indice_turistas:\n",
    "        if indice[1] in indice_red_o_nin:\n",
    "            redynin_lista.append((indice[0],'t'))\n",
    "        else:\n",
    "            no_prioritarios_lista.append((indice[0],'t'))\n",
    "\n",
    "    prioritarios_lista = redynin_lista + prioritarios_lista_sin_turistas\n",
    "\n",
    "    return (prioritarios_lista, no_prioritarios_lista)\n",
    "\n",
    "\n",
    "# El número de cada tupla es la posición del pasajero dentro de su categoría original. La letra indica la categoría en sí.\n",
    "print(f'Cola prioritaria: {crea_colas(df_pasajeros)[0]}')\n",
    "print('\\n')\n",
    "print(f'Cola no prioritaria: {crea_colas(df_pasajeros)[1]}')\n"
   ]
  },
  {
   "cell_type": "markdown",
   "metadata": {},
   "source": [
    "7.4 Implementad una función que calcule el tiempo que se tarda en embarcar el avión y una función que calcule la satisfacción de los pasajeros.\n"
   ]
  },
  {
   "cell_type": "code",
   "execution_count": 15,
   "metadata": {},
   "outputs": [],
   "source": [
    "from datetime import timedelta\n",
    "\n",
    "\n",
    "def calcula_tiempo(cola_1, cola_2):\n",
    "    '''Requiere como argumento posicional dos listas'''\n",
    "    if len(cola_1) > len(cola_2):\n",
    "        return str(timedelta(seconds=30 * len(cola_1)))\n",
    "    else:\n",
    "        return str(timedelta(seconds=30 * len(cola_2)))\n",
    "\n",
    "\n",
    "def calcula_media_satisfaccion(cola_pri, cola_tur):\n",
    "    '''Requiere como argumento posicional dos listas de tuplas, cuyo primer elemento es un número int y el segundo es una letra ('t' o ('t', 'b' y 'p'))'''\n",
    "    cola_pri_previa = [cliente for cliente in cola_pri if cliente[1] != 't']\n",
    "    \n",
    "    satisfaccion_tur = []\n",
    "    for index, tupla in enumerate(cola_tur, 1):\n",
    "        if index != tupla[0]:\n",
    "            satisfaccion_tur.append(25)\n",
    "        else:\n",
    "            satisfaccion_tur.append(0)\n",
    "    \n",
    "    satisfaccion_pri = []\n",
    "    for index_actual, cliente in enumerate(cola_pri, 1):\n",
    "        if cliente[1] == 't':\n",
    "            satisfaccion_pri.append(100)\n",
    "        elif cliente[1] == 'b':\n",
    "            satisfaccion_pri.append(0)\n",
    "        for index_antes, cliente_antes in enumerate(cola_pri_previa, 1):\n",
    "            if cliente[1] == 'p' and cliente == cliente_antes:\n",
    "                satisfaccion_pri.append((index_actual-index_antes) * -25)\n",
    "    \n",
    "    satisfaccion = satisfaccion_tur + satisfaccion_pri\n",
    "    return sum(satisfaccion) / len(satisfaccion)\n"
   ]
  },
  {
   "cell_type": "markdown",
   "metadata": {},
   "source": [
    "7.5 Calculad el tiempo que se tarda en embarcar el vuelo 714 y la satisfacción de los clientes.\n"
   ]
  },
  {
   "cell_type": "code",
   "execution_count": 16,
   "metadata": {},
   "outputs": [
    {
     "name": "stdout",
     "output_type": "stream",
     "text": [
      "En el vuelo 714:\n",
      "- Se tarda 0:15:30 en embarcar\n",
      "- La media de satisfacción es de 18.0\n"
     ]
    }
   ],
   "source": [
    "cola_prioritaria = crea_colas(df_pasajeros)[0]\n",
    "cola_no_prioritaria = crea_colas(df_pasajeros)[1]\n",
    "\n",
    "\n",
    "print('En el vuelo 714:')\n",
    "print(f'- Se tarda {calcula_tiempo(cola_prioritaria, cola_no_prioritaria)} en embarcar')\n",
    "print(f'- La media de satisfacción es de {calcula_media_satisfaccion(cola_prioritaria, cola_no_prioritaria)}')\n"
   ]
  }
 ],
 "metadata": {
  "kernelspec": {
   "display_name": "Python 3.9.13 ('data_analytics')",
   "language": "python",
   "name": "python3"
  },
  "language_info": {
   "codemirror_mode": {
    "name": "ipython",
    "version": 3
   },
   "file_extension": ".py",
   "mimetype": "text/x-python",
   "name": "python",
   "nbconvert_exporter": "python",
   "pygments_lexer": "ipython3",
   "version": "3.9.13"
  },
  "pycharm": {
   "stem_cell": {
    "cell_type": "raw",
    "metadata": {
     "collapsed": false
    },
    "source": []
   }
  },
  "vscode": {
   "interpreter": {
    "hash": "b824bf52cf534a16238dce884e8fdba8cd1853727e048048d6b0b37b0d718f27"
   }
  }
 },
 "nbformat": 4,
 "nbformat_minor": 4
}
